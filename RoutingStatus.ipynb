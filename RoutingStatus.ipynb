{
 "cells": [
  {
   "cell_type": "code",
   "execution_count": 1,
   "id": "028e76f4",
   "metadata": {},
   "outputs": [],
   "source": [
    "# Importacion de librerias\n",
    "import pandas as pd\n",
    "import numpy as np"
   ]
  },
  {
   "cell_type": "code",
   "execution_count": 2,
   "id": "122abfa0",
   "metadata": {},
   "outputs": [],
   "source": [
    "# Leer archivo fuente de datos\n",
    "data = pd.read_csv('C:\\\\Users\\\\KRIOSOFT\\\\Documents\\\\Python Scripts\\\\DB_ROUTINGSTATUS_GENESYS.csv')"
   ]
  },
  {
   "cell_type": "code",
   "execution_count": 3,
   "id": "07e09970",
   "metadata": {},
   "outputs": [
    {
     "data": {
      "text/html": [
       "<div>\n",
       "<style scoped>\n",
       "    .dataframe tbody tr th:only-of-type {\n",
       "        vertical-align: middle;\n",
       "    }\n",
       "\n",
       "    .dataframe tbody tr th {\n",
       "        vertical-align: top;\n",
       "    }\n",
       "\n",
       "    .dataframe thead th {\n",
       "        text-align: right;\n",
       "    }\n",
       "</style>\n",
       "<table border=\"1\" class=\"dataframe\">\n",
       "  <thead>\n",
       "    <tr style=\"text-align: right;\">\n",
       "      <th></th>\n",
       "      <th>USERID</th>\n",
       "      <th>NAME</th>\n",
       "      <th>ROUTINGSTATUSID</th>\n",
       "      <th>SUM(DURATION_S)</th>\n",
       "    </tr>\n",
       "  </thead>\n",
       "  <tbody>\n",
       "    <tr>\n",
       "      <th>0</th>\n",
       "      <td>CA3BF48A-E0A1-4A38-A080-A1D7E23893A4</td>\n",
       "      <td>Billy MacFalls</td>\n",
       "      <td>INTERACTING</td>\n",
       "      <td>652838.0</td>\n",
       "    </tr>\n",
       "    <tr>\n",
       "      <th>1</th>\n",
       "      <td>DA25538C-234D-4B6A-AD7B-D6036ED5E0B7</td>\n",
       "      <td>Mark A Darling</td>\n",
       "      <td>IDLE</td>\n",
       "      <td>3134522.0</td>\n",
       "    </tr>\n",
       "    <tr>\n",
       "      <th>2</th>\n",
       "      <td>8B969B35-5E13-46A3-94EE-AD1F126536FD</td>\n",
       "      <td>Colene Bindner</td>\n",
       "      <td>IDLE</td>\n",
       "      <td>5571776.0</td>\n",
       "    </tr>\n",
       "    <tr>\n",
       "      <th>3</th>\n",
       "      <td>2B49D4C1-90B1-44F8-A5EB-3EC48565A252</td>\n",
       "      <td>Kevin Moon</td>\n",
       "      <td>IDLE</td>\n",
       "      <td>5642439.0</td>\n",
       "    </tr>\n",
       "    <tr>\n",
       "      <th>4</th>\n",
       "      <td>E2088CBF-A7A4-4933-85DF-0D13E6D33E7B</td>\n",
       "      <td>Stephanie Moreno</td>\n",
       "      <td>INTERACTING</td>\n",
       "      <td>8309450.0</td>\n",
       "    </tr>\n",
       "    <tr>\n",
       "      <th>...</th>\n",
       "      <td>...</td>\n",
       "      <td>...</td>\n",
       "      <td>...</td>\n",
       "      <td>...</td>\n",
       "    </tr>\n",
       "    <tr>\n",
       "      <th>2677</th>\n",
       "      <td>3981BAC7-2811-4C9A-BC15-115133F5D610</td>\n",
       "      <td>E-STMORENO</td>\n",
       "      <td>OFF_QUEUE</td>\n",
       "      <td>1453.0</td>\n",
       "    </tr>\n",
       "    <tr>\n",
       "      <th>2678</th>\n",
       "      <td>DFD46F74-566A-4596-83F0-E406F8BB38F8</td>\n",
       "      <td>Mario Guzman</td>\n",
       "      <td>NOT_RESPONDING</td>\n",
       "      <td>4.0</td>\n",
       "    </tr>\n",
       "    <tr>\n",
       "      <th>2679</th>\n",
       "      <td>4533BC81-899C-4581-8674-8F2893B4BAA1</td>\n",
       "      <td>Leticia Sepulveda</td>\n",
       "      <td>IDLE</td>\n",
       "      <td>2.0</td>\n",
       "    </tr>\n",
       "    <tr>\n",
       "      <th>2680</th>\n",
       "      <td>BC1FD67B-D7B1-4CB4-9BB0-839BA76058E6</td>\n",
       "      <td>Acelia Garza</td>\n",
       "      <td>NOT_RESPONDING</td>\n",
       "      <td>16.0</td>\n",
       "    </tr>\n",
       "    <tr>\n",
       "      <th>2681</th>\n",
       "      <td>D5583F04-16BA-4104-848B-BE1514502C68</td>\n",
       "      <td>Carlos Lemus</td>\n",
       "      <td>INTERACTING</td>\n",
       "      <td>4.0</td>\n",
       "    </tr>\n",
       "  </tbody>\n",
       "</table>\n",
       "<p>2682 rows × 4 columns</p>\n",
       "</div>"
      ],
      "text/plain": [
       "                                    USERID               NAME ROUTINGSTATUSID  \\\n",
       "0     CA3BF48A-E0A1-4A38-A080-A1D7E23893A4     Billy MacFalls     INTERACTING   \n",
       "1     DA25538C-234D-4B6A-AD7B-D6036ED5E0B7     Mark A Darling            IDLE   \n",
       "2     8B969B35-5E13-46A3-94EE-AD1F126536FD     Colene Bindner            IDLE   \n",
       "3     2B49D4C1-90B1-44F8-A5EB-3EC48565A252         Kevin Moon            IDLE   \n",
       "4     E2088CBF-A7A4-4933-85DF-0D13E6D33E7B   Stephanie Moreno     INTERACTING   \n",
       "...                                    ...                ...             ...   \n",
       "2677  3981BAC7-2811-4C9A-BC15-115133F5D610         E-STMORENO       OFF_QUEUE   \n",
       "2678  DFD46F74-566A-4596-83F0-E406F8BB38F8       Mario Guzman  NOT_RESPONDING   \n",
       "2679  4533BC81-899C-4581-8674-8F2893B4BAA1  Leticia Sepulveda            IDLE   \n",
       "2680  BC1FD67B-D7B1-4CB4-9BB0-839BA76058E6       Acelia Garza  NOT_RESPONDING   \n",
       "2681  D5583F04-16BA-4104-848B-BE1514502C68       Carlos Lemus     INTERACTING   \n",
       "\n",
       "      SUM(DURATION_S)  \n",
       "0            652838.0  \n",
       "1           3134522.0  \n",
       "2           5571776.0  \n",
       "3           5642439.0  \n",
       "4           8309450.0  \n",
       "...               ...  \n",
       "2677           1453.0  \n",
       "2678              4.0  \n",
       "2679              2.0  \n",
       "2680             16.0  \n",
       "2681              4.0  \n",
       "\n",
       "[2682 rows x 4 columns]"
      ]
     },
     "execution_count": 3,
     "metadata": {},
     "output_type": "execute_result"
    }
   ],
   "source": [
    "data"
   ]
  },
  {
   "cell_type": "code",
   "execution_count": 4,
   "id": "1e1b3a4d",
   "metadata": {},
   "outputs": [
    {
     "data": {
      "text/plain": [
       "OFF_QUEUE         710\n",
       "IDLE              554\n",
       "INTERACTING       528\n",
       "COMMUNICATING     454\n",
       "NOT_RESPONDING    436\n",
       "Name: ROUTINGSTATUSID, dtype: int64"
      ]
     },
     "execution_count": 4,
     "metadata": {},
     "output_type": "execute_result"
    }
   ],
   "source": [
    "# Conteo del total de datos por RoutingID\n",
    "data[\"ROUTINGSTATUSID\"].value_counts()"
   ]
  },
  {
   "cell_type": "code",
   "execution_count": 29,
   "id": "dde73484",
   "metadata": {},
   "outputs": [],
   "source": [
    "data2 = data[data['ROUTINGSTATUSID'].notna()]"
   ]
  },
  {
   "cell_type": "code",
   "execution_count": 30,
   "id": "2766f9ba",
   "metadata": {},
   "outputs": [
    {
     "data": {
      "text/html": [
       "<div>\n",
       "<style scoped>\n",
       "    .dataframe tbody tr th:only-of-type {\n",
       "        vertical-align: middle;\n",
       "    }\n",
       "\n",
       "    .dataframe tbody tr th {\n",
       "        vertical-align: top;\n",
       "    }\n",
       "\n",
       "    .dataframe thead th {\n",
       "        text-align: right;\n",
       "    }\n",
       "</style>\n",
       "<table border=\"1\" class=\"dataframe\">\n",
       "  <thead>\n",
       "    <tr style=\"text-align: right;\">\n",
       "      <th></th>\n",
       "      <th>USERID</th>\n",
       "      <th>NAME</th>\n",
       "      <th>ROUTINGSTATUSID</th>\n",
       "      <th>SUM(DURATION_S)</th>\n",
       "    </tr>\n",
       "  </thead>\n",
       "  <tbody>\n",
       "    <tr>\n",
       "      <th>0</th>\n",
       "      <td>CA3BF48A-E0A1-4A38-A080-A1D7E23893A4</td>\n",
       "      <td>Billy MacFalls</td>\n",
       "      <td>INTERACTING</td>\n",
       "      <td>652838.0</td>\n",
       "    </tr>\n",
       "    <tr>\n",
       "      <th>1</th>\n",
       "      <td>DA25538C-234D-4B6A-AD7B-D6036ED5E0B7</td>\n",
       "      <td>Mark A Darling</td>\n",
       "      <td>IDLE</td>\n",
       "      <td>3134522.0</td>\n",
       "    </tr>\n",
       "    <tr>\n",
       "      <th>2</th>\n",
       "      <td>8B969B35-5E13-46A3-94EE-AD1F126536FD</td>\n",
       "      <td>Colene Bindner</td>\n",
       "      <td>IDLE</td>\n",
       "      <td>5571776.0</td>\n",
       "    </tr>\n",
       "    <tr>\n",
       "      <th>3</th>\n",
       "      <td>2B49D4C1-90B1-44F8-A5EB-3EC48565A252</td>\n",
       "      <td>Kevin Moon</td>\n",
       "      <td>IDLE</td>\n",
       "      <td>5642439.0</td>\n",
       "    </tr>\n",
       "    <tr>\n",
       "      <th>4</th>\n",
       "      <td>E2088CBF-A7A4-4933-85DF-0D13E6D33E7B</td>\n",
       "      <td>Stephanie Moreno</td>\n",
       "      <td>INTERACTING</td>\n",
       "      <td>8309450.0</td>\n",
       "    </tr>\n",
       "    <tr>\n",
       "      <th>...</th>\n",
       "      <td>...</td>\n",
       "      <td>...</td>\n",
       "      <td>...</td>\n",
       "      <td>...</td>\n",
       "    </tr>\n",
       "    <tr>\n",
       "      <th>2677</th>\n",
       "      <td>3981BAC7-2811-4C9A-BC15-115133F5D610</td>\n",
       "      <td>E-STMORENO</td>\n",
       "      <td>OFF_QUEUE</td>\n",
       "      <td>1453.0</td>\n",
       "    </tr>\n",
       "    <tr>\n",
       "      <th>2678</th>\n",
       "      <td>DFD46F74-566A-4596-83F0-E406F8BB38F8</td>\n",
       "      <td>Mario Guzman</td>\n",
       "      <td>NOT_RESPONDING</td>\n",
       "      <td>4.0</td>\n",
       "    </tr>\n",
       "    <tr>\n",
       "      <th>2679</th>\n",
       "      <td>4533BC81-899C-4581-8674-8F2893B4BAA1</td>\n",
       "      <td>Leticia Sepulveda</td>\n",
       "      <td>IDLE</td>\n",
       "      <td>2.0</td>\n",
       "    </tr>\n",
       "    <tr>\n",
       "      <th>2680</th>\n",
       "      <td>BC1FD67B-D7B1-4CB4-9BB0-839BA76058E6</td>\n",
       "      <td>Acelia Garza</td>\n",
       "      <td>NOT_RESPONDING</td>\n",
       "      <td>16.0</td>\n",
       "    </tr>\n",
       "    <tr>\n",
       "      <th>2681</th>\n",
       "      <td>D5583F04-16BA-4104-848B-BE1514502C68</td>\n",
       "      <td>Carlos Lemus</td>\n",
       "      <td>INTERACTING</td>\n",
       "      <td>4.0</td>\n",
       "    </tr>\n",
       "  </tbody>\n",
       "</table>\n",
       "<p>2682 rows × 4 columns</p>\n",
       "</div>"
      ],
      "text/plain": [
       "                                    USERID               NAME ROUTINGSTATUSID  \\\n",
       "0     CA3BF48A-E0A1-4A38-A080-A1D7E23893A4     Billy MacFalls     INTERACTING   \n",
       "1     DA25538C-234D-4B6A-AD7B-D6036ED5E0B7     Mark A Darling            IDLE   \n",
       "2     8B969B35-5E13-46A3-94EE-AD1F126536FD     Colene Bindner            IDLE   \n",
       "3     2B49D4C1-90B1-44F8-A5EB-3EC48565A252         Kevin Moon            IDLE   \n",
       "4     E2088CBF-A7A4-4933-85DF-0D13E6D33E7B   Stephanie Moreno     INTERACTING   \n",
       "...                                    ...                ...             ...   \n",
       "2677  3981BAC7-2811-4C9A-BC15-115133F5D610         E-STMORENO       OFF_QUEUE   \n",
       "2678  DFD46F74-566A-4596-83F0-E406F8BB38F8       Mario Guzman  NOT_RESPONDING   \n",
       "2679  4533BC81-899C-4581-8674-8F2893B4BAA1  Leticia Sepulveda            IDLE   \n",
       "2680  BC1FD67B-D7B1-4CB4-9BB0-839BA76058E6       Acelia Garza  NOT_RESPONDING   \n",
       "2681  D5583F04-16BA-4104-848B-BE1514502C68       Carlos Lemus     INTERACTING   \n",
       "\n",
       "      SUM(DURATION_S)  \n",
       "0            652838.0  \n",
       "1           3134522.0  \n",
       "2           5571776.0  \n",
       "3           5642439.0  \n",
       "4           8309450.0  \n",
       "...               ...  \n",
       "2677           1453.0  \n",
       "2678              4.0  \n",
       "2679              2.0  \n",
       "2680             16.0  \n",
       "2681              4.0  \n",
       "\n",
       "[2682 rows x 4 columns]"
      ]
     },
     "execution_count": 30,
     "metadata": {},
     "output_type": "execute_result"
    }
   ],
   "source": [
    "data2"
   ]
  },
  {
   "cell_type": "code",
   "execution_count": 35,
   "id": "ae6599d6",
   "metadata": {},
   "outputs": [
    {
     "data": {
      "text/plain": [
       "<AxesSubplot:ylabel='ROUTINGSTATUSID'>"
      ]
     },
     "execution_count": 35,
     "metadata": {},
     "output_type": "execute_result"
    },
    {
     "data": {
      "image/png": "[encoded data removed]",
      "text/plain": [
       "<Figure size 1440x360 with 1 Axes>"
      ]
     },
     "metadata": {},
     "output_type": "display_data"
    }
   ],
   "source": [
    "# Presentacion de los datos del Routing por una grafica de Pie, estos datos se presentan agrupado por Rounting ID\n",
    "data2['ROUTINGSTATUSID'].value_counts().head(20).plot(kind = 'pie',figsize=(20,5))"
   ]
  },
  {
   "cell_type": "code",
   "execution_count": 34,
   "id": "c00f0e40",
   "metadata": {},
   "outputs": [],
   "source": [
    "import matplotlib.pyplot as plt"
   ]
  },
  {
   "cell_type": "code",
   "execution_count": null,
   "id": "9200bb59",
   "metadata": {},
   "outputs": [],
   "source": []
  }
 ],
 "metadata": {
  "kernelspec": {
   "display_name": "Python 3 (ipykernel)",
   "language": "python",
   "name": "python3"
  },
  "language_info": {
   "codemirror_mode": {
    "name": "ipython",
    "version": 3
   },
   "file_extension": ".py",
   "mimetype": "text/x-python",
   "name": "python",
   "nbconvert_exporter": "python",
   "pygments_lexer": "ipython3",
   "version": "3.9.7"
  }
 },
 "nbformat": 4,
 "nbformat_minor": 5
}
